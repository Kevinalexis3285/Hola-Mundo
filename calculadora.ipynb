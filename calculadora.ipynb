{
  "nbformat": 4,
  "nbformat_minor": 0,
  "metadata": {
    "colab": {
      "provenance": [],
      "authorship_tag": "ABX9TyO1DiT0t3iuVFxlDxpM9MJ1",
      "include_colab_link": true
    },
    "kernelspec": {
      "name": "python3",
      "display_name": "Python 3"
    },
    "language_info": {
      "name": "python"
    }
  },
  "cells": [
    {
      "cell_type": "markdown",
      "metadata": {
        "id": "view-in-github",
        "colab_type": "text"
      },
      "source": [
        "<a href=\"https://colab.research.google.com/github/Kevinalexis3285/Hola-Mundo/blob/main/calculadora.ipynb\" target=\"_parent\"><img src=\"https://colab.research.google.com/assets/colab-badge.svg\" alt=\"Open In Colab\"/></a>"
      ]
    },
    {
      "cell_type": "code",
      "execution_count": null,
      "metadata": {
        "id": "GQj2qXkP8aBM"
      },
      "outputs": [],
      "source": []
    },
    {
      "cell_type": "markdown",
      "source": [
        "***SOFTWARE DE CALCULADORA***"
      ],
      "metadata": {
        "id": "4vzvtpMw9PLd"
      }
    },
    {
      "cell_type": "code",
      "source": [
        "print('calculadora UTE')\n",
        "print('1. Suma\\n2. Resta\\n3. Multiplicación\\n4. División\\n5. Residuo')\n",
        "opcion = input('Ingrese la operacion a realizar\\n')\n",
        "valor1 = int(input('Ingrese el primer valor\\n'))\n",
        "valor2 = int(input('Ingrese el segundo valor\\n'))\n",
        "resultado = None\n",
        "operacion = 'Ninguna'\n",
        "if operacion =='1':\n",
        "    resultado = valor1 + valor2\n",
        "    operacion = 'suma'\n",
        "elif opcion == '2':\n",
        "    resultado = valor1 - valor2\n",
        "    operacion = 'resta'\n",
        "elif opcion == '3':\n",
        "    resultado = valor1 * valor2\n",
        "    operacion = 'multiplicacion'\n",
        "elif opcion =='4':\n",
        "    resultado = valor1 / valor2\n",
        "    operacion = 'división'\n",
        "elif opcion == '5':\n",
        "    resulatado = valor1 % valor2\n",
        "    operacion = 'residuo'\n",
        "else:\n",
        "    resulatado = 'no determinado'\n",
        "    operacion = 'indefinido'\n",
        "print(f'\\nLa {operacion} entre {valor1} y {valor2} es {resultado}\\n')"
      ],
      "metadata": {
        "colab": {
          "base_uri": "https://localhost:8080/"
        },
        "id": "8aKURBHI-IND",
        "outputId": "e2d38c0e-c0ab-4fb3-ba67-ce39027149a3"
      },
      "execution_count": null,
      "outputs": [
        {
          "output_type": "stream",
          "name": "stdout",
          "text": [
            "calculadora UTE\n",
            "1. Suma\n",
            "2. Resta\n",
            "3. Multiplicación\n",
            "4. División\n",
            "5. Residuo\n",
            "Ingrese la operacion a realizar\n",
            "Suma\n",
            "Ingrese el primer valor\n",
            "5\n",
            "Ingrese el segundo valor\n",
            "4\n",
            "\n",
            "La indefinido entre 5 y 4 es None\n",
            "\n"
          ]
        }
      ]
    }
  ]
}